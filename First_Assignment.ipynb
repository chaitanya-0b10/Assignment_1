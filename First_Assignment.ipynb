{
 "cells": [
  {
   "cell_type": "code",
   "execution_count": 19,
   "id": "d387567b-adc1-46cd-80f1-ef58f37b30c1",
   "metadata": {},
   "outputs": [
    {
     "data": {
      "text/plain": [
       "'Assignment : Python Baiscs Assignment'"
      ]
     },
     "execution_count": 19,
     "metadata": {},
     "output_type": "execute_result"
    }
   ],
   "source": [
    "                 '''Assignment : Python Baiscs Assignment'''"
   ]
  },
  {
   "cell_type": "code",
   "execution_count": 20,
   "id": "49fc0318-f51b-436e-92a9-9674614541b2",
   "metadata": {},
   "outputs": [
    {
     "data": {
      "text/plain": [
       "'\\nEasy to Learn: Simple syntax similar to natural language.\\nFree and Open Source**: Available for everyone to use and modify.\\nInterpreted: Executes code line by line, simplifying debugging.\\nHigh-Level: No need to manage memory or system architecture.\\nObject-Oriented: Supports efficient code structuring.\\nExtensive Library: Comes with many modules and packages.\\nPortable: Runs on different platforms without changes.\\nCommunity Support: Large, active community for resources and help.\\nGUI Support: Can create GUI applications.\\nIntegration: Easily integrates with other languages like C, C++, and Java.'"
      ]
     },
     "execution_count": 20,
     "metadata": {},
     "output_type": "execute_result"
    }
   ],
   "source": [
    "#Q1) Explain the key features of python that make it a popular choice of programming.\n",
    "\n",
    "\n",
    "'''\n",
    "Easy to Learn: Simple syntax similar to natural language.\n",
    "Free and Open Source**: Available for everyone to use and modify.\n",
    "Interpreted: Executes code line by line, simplifying debugging.\n",
    "High-Level: No need to manage memory or system architecture.\n",
    "Object-Oriented: Supports efficient code structuring.\n",
    "Extensive Library: Comes with many modules and packages.\n",
    "Portable: Runs on different platforms without changes.\n",
    "Community Support: Large, active community for resources and help.\n",
    "GUI Support: Can create GUI applications.\n",
    "Integration: Easily integrates with other languages like C, C++, and Java.'''\n",
    "\n"
   ]
  },
  {
   "cell_type": "code",
   "execution_count": 21,
   "id": "1e3cbc91-9199-41b1-afef-2d68a8b6fb49",
   "metadata": {},
   "outputs": [
    {
     "name": "stdout",
     "output_type": "stream",
     "text": [
      "Positive number\n",
      "x is between 0 and 10\n"
     ]
    }
   ],
   "source": [
    "#Q2) Describe the role of predefined keywords in python and provide exampless of how they are used in a program\n",
    "'''\n",
    "In Python, predefined keywords are reserved words that have special meanings and purposes within the language. \n",
    "They cannot be used as identifiers like variable names or function names because they are integral to the syntax \n",
    "and functionality of the language. These keywords help define the structure of Python programs and control the flow of execution.'''\n",
    "#if \n",
    "x=5\n",
    "if x > 0:\n",
    "    print(\"Positive number\")\n",
    "#elif\n",
    "elif x == 0:\n",
    "    print(\"Zero\")\n",
    "#else\n",
    "else:\n",
    "    print(\"Negative number\")\n",
    "#for\n",
    "for i in range(10): #in\n",
    "    if i == 5:\n",
    "        break #break \n",
    "    else:\n",
    "        continue #continue\n",
    "    print(\"hi\")\n",
    "#and\n",
    "if x > 0 and x > 10:\n",
    "    print(\"x is between 0 and 10\")\n",
    "\n",
    "#or\n",
    "if x > 0 or x <10: \n",
    "    print(\"x is between 0 and 10\")\n",
    "    "
   ]
  },
  {
   "cell_type": "code",
   "execution_count": 22,
   "id": "05c95f57-da32-41e3-8750-4c79f519e5ac",
   "metadata": {},
   "outputs": [
    {
     "name": "stdout",
     "output_type": "stream",
     "text": [
      "Original list: [1, 2, 3]\n",
      "Modified list: [1, 2, 3, 4]\n",
      "Original string: Hello\n",
      "Modified string: Hello World\n"
     ]
    }
   ],
   "source": [
    "#Q3) Compare and contrast mutable and immutable object in python with example.\n",
    "'''\n",
    "Mutable Objects->\n",
    "Definition: Objects whose state or content can be changed after creation.\n",
    "Examples: Lists, dictionaries, sets.\n",
    "Behavior: You can modify, add, or remove elements.\n",
    "Use Case: Useful when you need to change the size or content of the object frequently'''\n",
    "\n",
    "# Mutable object: List\n",
    "my_list = [1, 2, 3]\n",
    "print(\"Original list:\", my_list)\n",
    "\n",
    "# Modifying the list\n",
    "my_list.append(4)\n",
    "print(\"Modified list:\", my_list)\n",
    "\n",
    "\n",
    "\n",
    "'''\n",
    "Immutable Objects\n",
    "Definition: Objects whose state or content cannot be changed after creation.\n",
    "Examples: Strings, tuples, integers, floats.\n",
    "Behavior: Any modification creates a new object.\n",
    "Use Case: Useful for fixed data that should not change, ensuring data integrity.'''\n",
    "\n",
    "# Immutable object: String\n",
    "my_string = \"Hello\"\n",
    "print(\"Original string:\", my_string)\n",
    "\n",
    "# Attempting to modify the string\n",
    "my_string = my_string + \" World\"\n",
    "print(\"Modified string:\", my_string)\n",
    "\n",
    "\n"
   ]
  },
  {
   "cell_type": "code",
   "execution_count": 23,
   "id": "cfcea6a6-1f83-4018-b56d-239d7b135769",
   "metadata": {},
   "outputs": [
    {
     "name": "stdout",
     "output_type": "stream",
     "text": [
      "Arithmetic Operators:\n",
      "a + b = 13\n",
      "a - b = 7\n",
      "a * b = 30\n",
      "a / b = 3.3333333333333335\n",
      "a // b = 3\n",
      "a % b = 1\n",
      "a ** b = 1000\n",
      "\n",
      "Comparison Operators:\n",
      "a == b: False\n",
      "a != b: True\n",
      "a > b: True\n",
      "a < b: False\n",
      "a >= b: True\n",
      "a <= b: False\n",
      "\n",
      "Logical Operators:\n",
      "x and y: False\n",
      "x or y: True\n",
      "not x: False\n",
      "\n",
      "Assignment Operators:\n",
      "c += 2 -> c = 7\n",
      "c -= 1 -> c = 6\n",
      "c *= 3 -> c = 18\n",
      "c /= 2 -> c = 9.0\n",
      "c //= 2 -> c = 4.0\n",
      "c %= 3 -> c = 1.0\n",
      "c **= 2 -> c = 1.0\n",
      "\n",
      "Membership Operators:\n",
      "2 in my_list: True\n",
      "5 not in my_list: True\n",
      "\n",
      "Identity Operators:\n",
      "a is b: True\n",
      "a is c: False\n",
      "a is not c: True\n"
     ]
    }
   ],
   "source": [
    "#Q4) Discuss the different types of operators in python and provide examples of how they are used\n",
    "'''In Python, operators are special symbols that perform operations on values or variables. Python supports a variety of operators'''\n",
    "#example\n",
    "\n",
    "# Arithmetic Operators\n",
    "a = 10\n",
    "b = 3\n",
    "print(\"Arithmetic Operators:\")\n",
    "print(f\"a + b = {a + b}\")  # Addition\n",
    "print(f\"a - b = {a - b}\")  # Subtraction\n",
    "print(f\"a * b = {a * b}\")  # Multiplication\n",
    "print(f\"a / b = {a / b}\")  # Division\n",
    "print(f\"a // b = {a // b}\") # Floor Division\n",
    "print(f\"a % b = {a % b}\")  # Modulus\n",
    "print(f\"a ** b = {a ** b}\") # Exponentiation\n",
    "\n",
    "# Comparison Operators\n",
    "print(\"\\nComparison Operators:\")\n",
    "print(f\"a == b: {a == b}\")  # Equal to\n",
    "print(f\"a != b: {a != b}\")  # Not equal to\n",
    "print(f\"a > b: {a > b}\")    # Greater than\n",
    "print(f\"a < b: {a < b}\")    # Less than\n",
    "print(f\"a >= b: {a >= b}\")  # Greater than or equal to\n",
    "print(f\"a <= b: {a <= b}\")  # Less than or equal to\n",
    "\n",
    "# Logical Operators\n",
    "x = True\n",
    "y = False\n",
    "print(\"\\nLogical Operators:\")\n",
    "print(f\"x and y: {x and y}\")  # Logical AND\n",
    "print(f\"x or y: {x or y}\")    # Logical OR\n",
    "print(f\"not x: {not x}\")      # Logical NOT\n",
    "\n",
    "# Assignment Operators\n",
    "c = 5\n",
    "print(\"\\nAssignment Operators:\")\n",
    "c += 2  # Add and assign\n",
    "print(f\"c += 2 -> c = {c}\")\n",
    "c -= 1  # Subtract and assign\n",
    "print(f\"c -= 1 -> c = {c}\")\n",
    "c *= 3  # Multiply and assign\n",
    "print(f\"c *= 3 -> c = {c}\")\n",
    "c /= 2  # Divide and assign\n",
    "print(f\"c /= 2 -> c = {c}\")\n",
    "c //= 2 # Floor divide and assign\n",
    "print(f\"c //= 2 -> c = {c}\")\n",
    "c %= 3  # Modulus and assign\n",
    "print(f\"c %= 3 -> c = {c}\")\n",
    "c **= 2 # Exponent and assign\n",
    "print(f\"c **= 2 -> c = {c}\")\n",
    "\n",
    "# Membership Operators\n",
    "my_list = [1, 2, 3, 4]\n",
    "print(\"\\nMembership Operators:\")\n",
    "print(f\"2 in my_list: {2 in my_list}\")  # Membership test\n",
    "print(f\"5 not in my_list: {5 not in my_list}\")  # Membership test (negated)\n",
    "\n",
    "# Identity Operators\n",
    "a = [1, 2, 3]\n",
    "b = a\n",
    "c = [1, 2, 3]\n",
    "print(\"\\nIdentity Operators:\")\n",
    "print(f\"a is b: {a is b}\")  # Identity test (same object)\n",
    "print(f\"a is c: {a is c}\")  # Identity test (different objects)\n",
    "print(f\"a is not c: {a is not c}\")  # Identity test (different objects)\n"
   ]
  },
  {
   "cell_type": "code",
   "execution_count": null,
   "id": "da2997a9-e2b9-4a26-bcb5-9cd31cfb680d",
   "metadata": {},
   "outputs": [],
   "source": [
    "#Q5)  concept of type casting in python with example\n",
    "'''Type casting, or type conversion, in Python refers to the process of converting a variable from one data type to another.\n",
    "This is often necessary when performing operations that require specific types or when you need to ensure consistency in your data.\n",
    "Python provides built-in functions for type casting, which can convert values between different types'''\n",
    "\n",
    "#example\n",
    "# User input\n",
    "user_input = input(\"Enter a number: \")\n",
    "\n",
    "# Convert input to integer\n",
    "number = int(user_input)\n",
    "\n",
    "# Perform arithmetic operation\n",
    "result = number * 2\n",
    "print(f\"Double the number is: {result}\")\n",
    "\n"
   ]
  },
  {
   "cell_type": "code",
   "execution_count": null,
   "id": "0451288b-deaf-4f54-8a5d-2742bb37270d",
   "metadata": {},
   "outputs": [],
   "source": [
    "#Q6) How do conditional statement work in python illustrate with example\n",
    "'''Conditional statements in Python allow you to execute different code blocks based on certain conditions.\n",
    "They are crucial for controlling the flow of a program.\n",
    "Python provides several types of conditional statements, including if, elif, and else'''\n",
    "\n",
    "is_sunny = True\n",
    "is_weekend = False\n",
    "\n",
    "if is_sunny and is_weekend:\n",
    "    print(\"Let's go to the beach!\")\n",
    "elif is_sunny:\n",
    "    print(\"Let's go for a walk!\")\n",
    "else:\n",
    "    print(\"Stay indoors.\")\n"
   ]
  },
  {
   "cell_type": "code",
   "execution_count": null,
   "id": "2f553d2f-2963-4095-a9e4-70bb5a74de6e",
   "metadata": {},
   "outputs": [],
   "source": [
    "#Q7) Describe the difference types of loops in a Python and their use case with examples\n",
    "'''\n",
    "While Loop\n",
    " Repeats a block of code as long as a specified condition is true.\n",
    " Best when the number of iterations is not known in advance and depends on a condition.\n",
    " Initialization is done separately, and the condition is checked at the beginning of each iteration'''\n",
    "\n",
    "count = 5\n",
    "while count > 0:\n",
    "    print(count)\n",
    "    count -= 1\n",
    "\n",
    "print(\"---------------------------------------------------------------------------------\")\n",
    "\n",
    "'''For Loop\n",
    " Iterates over a sequence (like a list, tuple, dictionary, set, or string).\n",
    " Best when the number of iterations is known in advance or when iterating over a collection.\n",
    " Combines initialization, condition checking, and iteration in the loop declaration.'''\n",
    "\n",
    "for i in range(5):\n",
    "    if i == 3:\n",
    "        break\n",
    "    print(i)\n"
   ]
  },
  {
   "cell_type": "code",
   "execution_count": null,
   "id": "26c982f0-3de8-439f-a72e-e2f0063735e8",
   "metadata": {},
   "outputs": [],
   "source": []
  }
 ],
 "metadata": {
  "kernelspec": {
   "display_name": "Python 3 (ipykernel)",
   "language": "python",
   "name": "python3"
  },
  "language_info": {
   "codemirror_mode": {
    "name": "ipython",
    "version": 3
   },
   "file_extension": ".py",
   "mimetype": "text/x-python",
   "name": "python",
   "nbconvert_exporter": "python",
   "pygments_lexer": "ipython3",
   "version": "3.10.8"
  }
 },
 "nbformat": 4,
 "nbformat_minor": 5
}
